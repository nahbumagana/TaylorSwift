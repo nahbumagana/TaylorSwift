{
 "cells": [
  {
   "cell_type": "markdown",
   "metadata": {},
   "source": [
    "**Data description**. This should be inspired by the format presented in Gebru et al, 2018. Answer the following questions:\n",
    "- What are the observations (rows) and the attributes (columns)?\n",
    "    - The observations are different taylor swift songs from the years 2006-2019 \n",
    "    - The atributes are the song, title, release year, and lyrics\n",
    "- Why was this dataset created?\n",
    "    - This dataset was created by me to do my INFO 2950 final project. But for a real answer is was created so I could use natural language processing in the dataset to show the change in taylors swifts music and how the mainstream media may have affected that \n",
    "- Who funded the creation of the dataset?\n",
    "    - Genius, I used their API to scrape the song lyrics from their website\n",
    "- What processes might have influenced what data was observed and recorded and what was not?\n",
    "    - I'm not sure this is really applicable for my situation considering I scraped data from their website so it was a pretty controlled situation. Genius keeps a record of all their artists and all their songs \n",
    "- What preprocessing was done, and how did the data come to be in the form that you are using?\n",
    "    - Well for one I choose to only use 99 of the songs out of the 356 that Taylor has created because my computer couldn't ahndle the data. Then I used regualr experesions and pandas to strip away all the information that I didn't need for my goal of examinging the frequency and tye of words used in her songs \n",
    "- If people are involved, were they aware of the data collection and if so, what purpose did they expect the data to be used for?\n",
    "    - people were not involved but I'm sure Taylor swift is aware that Genius does host all her sogns and lyrics and thus allows them to be scraped and analyzed.\n",
    "- Where can your raw source data be found, if applicable? Provide a link to the raw data (hosted in a Cornell Google Drive or Cornell Box). \n",
    "    - My raw data is from [Genius](https://genius.com/artists/Taylor-swift) and can be found clicking the link. I have a json file as well of all the data before I organized it in a pandas dataframe that will be attached in the folder. \n",
    "\n",
    "**Initial Dataset Problems: The data that I got from the json filed was packed with unecessary variable and regualr expressions that I stripped away. Not only that but there was so much information that didn't line up for each song so much that the arrays were not aligned and it was difficult for the pandas to read the json file so i just took out the songs dict and use that to create the dataframe**"
   ]
  },
  {
   "cell_type": "code",
   "execution_count": 1,
   "metadata": {},
   "outputs": [],
   "source": [
    "import lyricsgenius as genius"
   ]
  },
  {
   "cell_type": "code",
   "execution_count": 2,
   "metadata": {
    "scrolled": true
   },
   "outputs": [
    {
     "ename": "NameError",
     "evalue": "name 'genius' is not defined",
     "output_type": "error",
     "traceback": [
      "\u001b[0;31m---------------------------------------------------------------------------\u001b[0m",
      "\u001b[0;31mNameError\u001b[0m                                 Traceback (most recent call last)",
      "\u001b[0;32m<ipython-input-2-382b4ca27bac>\u001b[0m in \u001b[0;36m<module>\u001b[0;34m\u001b[0m\n\u001b[0;32m----> 1\u001b[0;31m \u001b[0mgenius\u001b[0m\u001b[0;34m.\u001b[0m\u001b[0mremove_section_headers\u001b[0m \u001b[0;34m=\u001b[0m \u001b[0;32mTrue\u001b[0m\u001b[0;34m\u001b[0m\u001b[0;34m\u001b[0m\u001b[0m\n\u001b[0m\u001b[1;32m      2\u001b[0m \u001b[0;34m\u001b[0m\u001b[0m\n\u001b[1;32m      3\u001b[0m \u001b[0mgenius\u001b[0m \u001b[0;34m=\u001b[0m \u001b[0mlyricsgenius\u001b[0m\u001b[0;34m.\u001b[0m\u001b[0mGenius\u001b[0m\u001b[0;34m(\u001b[0m\u001b[0;34m\"32ImCXt6zMVkznmylTLG5L2jUle_B5kEYjE0_kROdUCv7DO-lThjUQQLMqqVDfbb\"\u001b[0m\u001b[0;34m)\u001b[0m\u001b[0;34m\u001b[0m\u001b[0;34m\u001b[0m\u001b[0m\n\u001b[1;32m      4\u001b[0m \u001b[0martist\u001b[0m \u001b[0;34m=\u001b[0m \u001b[0mgenius\u001b[0m\u001b[0;34m.\u001b[0m\u001b[0msearch_artist\u001b[0m\u001b[0;34m(\u001b[0m\u001b[0;34m\"Taylor Swift\"\u001b[0m\u001b[0;34m,\u001b[0m \u001b[0mmax_songs\u001b[0m\u001b[0;34m=\u001b[0m\u001b[0;36m99\u001b[0m \u001b[0;34m)\u001b[0m\u001b[0;34m\u001b[0m\u001b[0;34m\u001b[0m\u001b[0m\n\u001b[1;32m      5\u001b[0m \u001b[0martist\u001b[0m\u001b[0;34m.\u001b[0m\u001b[0msave_lyrics\u001b[0m\u001b[0;34m(\u001b[0m\u001b[0;34m)\u001b[0m\u001b[0;34m\u001b[0m\u001b[0;34m\u001b[0m\u001b[0m\n",
      "\u001b[0;31mNameError\u001b[0m: name 'genius' is not defined"
     ]
    }
   ],
   "source": [
    "genius.remove_section_headers = True \n",
    "\n",
    "genius = lyricsgenius.Genius(\"32ImCXt6zMVkznmylTLG5L2jUle_B5kEYjE0_kROdUCv7DO-lThjUQQLMqqVDfbb\")\n",
    "artist = genius.search_artist(\"Taylor Swift\", max_songs=99 )\n",
    "artist.save_lyrics()"
   ]
  },
  {
   "cell_type": "code",
   "execution_count": null,
   "metadata": {},
   "outputs": [],
   "source": [
    "import os\n",
    "print(os.getcwd())"
   ]
  },
  {
   "cell_type": "code",
   "execution_count": 1,
   "metadata": {
    "scrolled": false
   },
   "outputs": [
    {
     "ename": "FileNotFoundError",
     "evalue": "[Errno 2] No such file or directory: 'Lyrics_TaylorSwift.json'",
     "output_type": "error",
     "traceback": [
      "\u001b[0;31m---------------------------------------------------------------------------\u001b[0m",
      "\u001b[0;31mFileNotFoundError\u001b[0m                         Traceback (most recent call last)",
      "\u001b[0;32m<ipython-input-1-0b15d03e769e>\u001b[0m in \u001b[0;36m<module>\u001b[0;34m\u001b[0m\n\u001b[1;32m      1\u001b[0m \u001b[0;32mimport\u001b[0m \u001b[0mpandas\u001b[0m \u001b[0;32mas\u001b[0m \u001b[0mpd\u001b[0m\u001b[0;34m\u001b[0m\u001b[0;34m\u001b[0m\u001b[0m\n\u001b[1;32m      2\u001b[0m \u001b[0;32mimport\u001b[0m \u001b[0mjson\u001b[0m\u001b[0;34m\u001b[0m\u001b[0;34m\u001b[0m\u001b[0m\n\u001b[0;32m----> 3\u001b[0;31m \u001b[0;32mwith\u001b[0m \u001b[0mopen\u001b[0m\u001b[0;34m(\u001b[0m\u001b[0;34m'Lyrics_TaylorSwift.json'\u001b[0m\u001b[0;34m)\u001b[0m \u001b[0;32mas\u001b[0m \u001b[0mTaylor\u001b[0m\u001b[0;34m:\u001b[0m\u001b[0;34m\u001b[0m\u001b[0;34m\u001b[0m\u001b[0m\n\u001b[0m\u001b[1;32m      4\u001b[0m    \u001b[0msongs\u001b[0m \u001b[0;34m=\u001b[0m \u001b[0mjson\u001b[0m\u001b[0;34m.\u001b[0m\u001b[0mload\u001b[0m\u001b[0;34m(\u001b[0m\u001b[0mTaylor\u001b[0m\u001b[0;34m)\u001b[0m\u001b[0;34m\u001b[0m\u001b[0;34m\u001b[0m\u001b[0m\n\u001b[1;32m      5\u001b[0m \u001b[0mrelease_date\u001b[0m \u001b[0;34m=\u001b[0m \u001b[0;34m[\u001b[0m\u001b[0;34m]\u001b[0m\u001b[0;34m\u001b[0m\u001b[0;34m\u001b[0m\u001b[0m\n",
      "\u001b[0;31mFileNotFoundError\u001b[0m: [Errno 2] No such file or directory: 'Lyrics_TaylorSwift.json'"
     ]
    }
   ],
   "source": [
    "import pandas as pd\n",
    "import json\n",
    "with open('Lyrics_TaylorSwift.json') as Taylor:\n",
    "   songs = json.load(Taylor)\n",
    "release_date = []\n",
    "for x in range(0,99): \n",
    "    date = songs[\"songs\"][x]['release_date']\n",
    "    release_date.append(date)\n",
    "    \n",
    "##print (release_date)\n",
    "    \n",
    "TaylorSwift = pd.DataFrame(songs['songs'])\n",
    "\n",
    "TaylorSwift = TaylorSwift.drop(['annotation_count', 'api_path','apple_music_id', 'apple_music_player_url', 'description', 'embed_content','featured_video','header_image_thumbnail_url','header_image_url', 'id', 'lyrics_owner_id', 'media', 'primary_artist', 'producer_artists', 'lyrics_placeholder_reason', 'lyrics_state', 'path', 'pyongs_count', 'recording_location', 'song_art_image_thumbnail_url', 'song_art_image_url', 'description_annotation', 'featured_artists', 'lyrics_marked_complete_by', 'song_relationships','verified_annotations_by','verified_contributors', 'verified_lyrics_by','verified_lyrics_by', 'writer_artists', 'fact_track', 'full_title', 'release_date_for_display', 'stats', 'title_with_featured', 'url', 'current_user_metadata', 'album', 'custom_performances'], axis=1)\n",
    "\n",
    "TaylorSwift['lyrics'] = TaylorSwift.lyrics.str.replace('Verse 1' , '')\n",
    "TaylorSwift['lyrics'] = TaylorSwift.lyrics.str.replace(r\"[\\(\\[].*?[\\)\\]]\", '')\n",
    "TaylorSwift['lyrics'] = TaylorSwift.lyrics.str.replace(r\"[\\n]\", ' ')\n",
    "TaylorSwift['release_date'] = TaylorSwift.release_date.split('-')[0]\n",
    "\n",
    "\n",
    "TaylorSwift\n",
    "\n"
   ]
  },
  {
   "cell_type": "code",
   "execution_count": 133,
   "metadata": {},
   "outputs": [],
   "source": [
    "TaylorSwift.to_csv(r'/Users/nahbumagana/Desktop/INFO2950/finalproject/taylorswift.csv', index = False, header=True)"
   ]
  }
 ],
 "metadata": {
  "kernelspec": {
   "display_name": "Python 3",
   "language": "python",
   "name": "python3"
  },
  "language_info": {
   "codemirror_mode": {
    "name": "ipython",
    "version": 3
   },
   "file_extension": ".py",
   "mimetype": "text/x-python",
   "name": "python",
   "nbconvert_exporter": "python",
   "pygments_lexer": "ipython3",
   "version": "3.7.4"
  }
 },
 "nbformat": 4,
 "nbformat_minor": 2
}
